{
 "cells": [
  {
   "cell_type": "code",
   "execution_count": 15,
   "metadata": {},
   "outputs": [
    {
     "name": "stdout",
     "output_type": "stream",
     "text": [
      "The autoreload extension is already loaded. To reload it, use:\n",
      "  %reload_ext autoreload\n"
     ]
    }
   ],
   "source": [
    "%load_ext autoreload\n",
    "%autoreload 2"
   ]
  },
  {
   "cell_type": "code",
   "execution_count": 16,
   "metadata": {},
   "outputs": [],
   "source": [
    "from PedDetectionModel import PedDetectionModel"
   ]
  },
  {
   "cell_type": "code",
   "execution_count": 17,
   "metadata": {},
   "outputs": [
    {
     "name": "stdout",
     "output_type": "stream",
     "text": [
      "INFO: Loading checkpoint 24 from master at ec2-44-233-173-124.us-west-2.compute.amazonaws.com:8080/\n",
      "INFO: Loading Trial implementation with entrypoint model_def:ObjectDetectionModel.\n",
      "INFO: 'checkpoint_storage' configuration key is not supported by local test mode and will be ignored\n",
      "INFO: 'resources' configuration key is not supported by local test mode and will be ignored\n",
      "INFO: 'environment' configuration key is not supported by local test mode and will be ignored\n",
      "INFO: 'optimizations' configuration key is not supported by local test mode and will be ignored\n",
      "INFO: Loaded checkpoint\n"
     ]
    }
   ],
   "source": [
    "model = PedDetectionModel(det_master=\"ec2-44-233-173-124.us-west-2.compute.amazonaws.com:8080/\", experiment_id=24)"
   ]
  },
  {
   "cell_type": "code",
   "execution_count": 31,
   "metadata": {},
   "outputs": [
    {
     "name": "stdout",
     "output_type": "stream",
     "text": [
      "INFO: Request Received\n"
     ]
    }
   ],
   "source": [
    "from PIL import Image\n",
    "import numpy as np\n",
    "\n",
    "image = np.array(Image.open('test.jpg').convert(\"RGB\"))\n",
    "preds = model.predict(image)"
   ]
  },
  {
   "cell_type": "code",
   "execution_count": 32,
   "metadata": {},
   "outputs": [
    {
     "data": {
      "text/plain": [
       "{'prediction': {'boxes': [[587.9632568359375,\n",
       "    240.458740234375,\n",
       "    696.9014282226562,\n",
       "    574.9324340820312],\n",
       "   [406.2483215332031,\n",
       "    278.1963806152344,\n",
       "    516.5551147460938,\n",
       "    626.6549682617188],\n",
       "   [342.0782775878906, 230.2999267578125, 429.0792541503906, 569.5166015625],\n",
       "   [475.7460021972656, 256.6604309082031, 574.328125, 580.3480834960938],\n",
       "   [27.970502853393555,\n",
       "    218.0447998046875,\n",
       "    44.08040237426758,\n",
       "    268.5564270019531],\n",
       "   [127.39676666259766,\n",
       "    201.5993194580078,\n",
       "    139.9792938232422,\n",
       "    246.6916046142578],\n",
       "   [364.67462158203125,\n",
       "    251.1808319091797,\n",
       "    593.7689819335938,\n",
       "    597.3399658203125],\n",
       "   [188.8562469482422,\n",
       "    213.67556762695312,\n",
       "    206.4140167236328,\n",
       "    257.07904052734375],\n",
       "   [153.4095916748047,\n",
       "    201.9764862060547,\n",
       "    167.8375701904297,\n",
       "    248.93167114257812],\n",
       "   [554.4791259765625, 246.0341796875, 581.3555908203125, 320.5916442871094]],\n",
       "  'labels': [1, 1, 1, 1, 1, 1, 1, 1, 1, 1],\n",
       "  'scores': [0.998805046081543,\n",
       "   0.9973811507225037,\n",
       "   0.9957457184791565,\n",
       "   0.9941918253898621,\n",
       "   0.7652268409729004,\n",
       "   0.5013853907585144,\n",
       "   0.48249781131744385,\n",
       "   0.4642346501350403,\n",
       "   0.21966490149497986,\n",
       "   0.05584001541137695]}}"
      ]
     },
     "execution_count": 32,
     "metadata": {},
     "output_type": "execute_result"
    }
   ],
   "source": [
    "import json\n"
   ]
  },
  {
   "cell_type": "code",
   "execution_count": null,
   "metadata": {},
   "outputs": [],
   "source": []
  }
 ],
 "metadata": {
  "kernelspec": {
   "display_name": "Python 3",
   "language": "python",
   "name": "python3"
  },
  "language_info": {
   "codemirror_mode": {
    "name": "ipython",
    "version": 3
   },
   "file_extension": ".py",
   "mimetype": "text/x-python",
   "name": "python",
   "nbconvert_exporter": "python",
   "pygments_lexer": "ipython3",
   "version": "3.7.7"
  }
 },
 "nbformat": 4,
 "nbformat_minor": 4
}
